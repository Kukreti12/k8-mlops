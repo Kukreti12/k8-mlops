{
 "cells": [
  {
   "cell_type": "code",
   "execution_count": 87,
   "metadata": {},
   "outputs": [],
   "source": [
    "import mlflow\n",
    "import matplotlib.pyplot as plt\n",
    "import seaborn as sns\n",
    "import pandas as pd\n",
    "from sklearn.datasets import fetch_openml"
   ]
  },
  {
   "cell_type": "code",
   "execution_count": 88,
   "metadata": {},
   "outputs": [],
   "source": [
    "house_price_df = fetch_openml('house_sales',version = 7,return_X_y= False)"
   ]
  },
  {
   "cell_type": "code",
   "execution_count": 89,
   "metadata": {},
   "outputs": [
    {
     "data": {
      "text/plain": [
       "Index(['bedrooms', 'bathrooms', 'sqft_living', 'sqft_lot', 'waterfront',\n",
       "       'grade', 'sqft_above', 'sqft_basement', 'yr_built', 'yr_renovated',\n",
       "       'lat', 'long', 'sqft_living15', 'sqft_lot15', 'date_year', 'date_month',\n",
       "       'date_day'],\n",
       "      dtype='object')"
      ]
     },
     "execution_count": 89,
     "metadata": {},
     "output_type": "execute_result"
    }
   ],
   "source": [
    "house_price_df.data.columns"
   ]
  },
  {
   "cell_type": "code",
   "execution_count": 90,
   "metadata": {},
   "outputs": [
    {
     "data": {
      "text/plain": [
       "(21613, 17)"
      ]
     },
     "execution_count": 90,
     "metadata": {},
     "output_type": "execute_result"
    }
   ],
   "source": [
    "house_price_df.data.shape"
   ]
  },
  {
   "cell_type": "code",
   "execution_count": 91,
   "metadata": {},
   "outputs": [],
   "source": [
    "house_price_df.data['age'] = 2015 - house_price_df.data['yr_built']\n",
    "house_price_df.data['renovation_age'] =2015-house_price_df.data['yr_renovated']"
   ]
  },
  {
   "cell_type": "code",
   "execution_count": 92,
   "metadata": {},
   "outputs": [
    {
     "data": {
      "text/plain": [
       "<AxesSubplot:xlabel='price', ylabel='Count'>"
      ]
     },
     "execution_count": 92,
     "metadata": {},
     "output_type": "execute_result"
    },
    {
     "data": {
      "image/png": "[encoded data removed]",
      "text/plain": [
       "<Figure size 576x432 with 1 Axes>"
      ]
     },
     "metadata": {
      "needs_background": "light"
     },
     "output_type": "display_data"
    }
   ],
   "source": [
    "fig, axs = plt.subplots(figsize=(8, 6))\n",
    "sns.histplot(x=house_price_df.target, data=house_price_df.target)"
   ]
  },
  {
   "cell_type": "code",
   "execution_count": 96,
   "metadata": {},
   "outputs": [],
   "source": [
    "df= pd.concat([house_price_df.data,house_price_df.target],axis=1)"
   ]
  },
  {
   "cell_type": "code",
   "execution_count": 98,
   "metadata": {},
   "outputs": [
    {
     "data": {
      "text/plain": [
       "<AxesSubplot:xlabel='waterfront', ylabel='price'>"
      ]
     },
     "execution_count": 98,
     "metadata": {},
     "output_type": "execute_result"
    },
    {
     "data": {
      "image/png": "[encoded data removed]",
      "text/plain": [
       "<Figure size 432x288 with 1 Axes>"
      ]
     },
     "metadata": {
      "needs_background": "light"
     },
     "output_type": "display_data"
    }
   ],
   "source": [
    "sns.barplot(x='waterfront', y='price', data =df)"
   ]
  },
  {
   "cell_type": "code",
   "execution_count": 3,
   "metadata": {},
   "outputs": [
    {
     "name": "stdout",
     "output_type": "stream",
     "text": [
      "Collecting ydata-profiling\n",
      "  Using cached ydata_profiling-4.6.1-py2.py3-none-any.whl (357 kB)\n",
      "Requirement already satisfied: pandas!=1.4.0,<2.1,>1.1 in c:\\users\\sharsaur\\anaconda3\\lib\\site-packages (from ydata-profiling) (1.4.2)\n",
      "Collecting wordcloud>=1.9.1\n"
     ]
    },
    {
     "name": "stderr",
     "output_type": "stream",
     "text": [
      "WARNING: Ignoring invalid distribution -yyaml (c:\\users\\sharsaur\\anaconda3\\lib\\site-packages)\n",
      "WARNING: Ignoring invalid distribution -yyaml (c:\\users\\sharsaur\\anaconda3\\lib\\site-packages)\n",
      "WARNING: Ignoring invalid distribution -yyaml (c:\\users\\sharsaur\\anaconda3\\lib\\site-packages)\n",
      "    WARNING: Ignoring invalid distribution -yyaml (c:\\users\\sharsaur\\anaconda3\\lib\\site-packages)\n",
      "ERROR: Cannot uninstall 'llvmlite'. It is a distutils installed project and thus we cannot accurately determine which files belong to it which would lead to only a partial uninstall.\n",
      "WARNING: Ignoring invalid distribution -yyaml (c:\\users\\sharsaur\\anaconda3\\lib\\site-packages)\n",
      "WARNING: Ignoring invalid distribution -yyaml (c:\\users\\sharsaur\\anaconda3\\lib\\site-packages)\n",
      "WARNING: Ignoring invalid distribution -yyaml (c:\\users\\sharsaur\\anaconda3\\lib\\site-packages)\n"
     ]
    },
    {
     "name": "stdout",
     "output_type": "stream",
     "text": [
      "  Using cached wordcloud-1.9.2-cp39-cp39-win_amd64.whl (153 kB)\n",
      "Requirement already satisfied: scipy<1.12,>=1.4.1 in c:\\users\\sharsaur\\anaconda3\\lib\\site-packages (from ydata-profiling) (1.7.3)\n",
      "Requirement already satisfied: multimethod<2,>=1.4 in c:\\users\\sharsaur\\anaconda3\\lib\\site-packages (from ydata-profiling) (1.10)\n",
      "Collecting htmlmin==0.1.12\n",
      "  Using cached htmlmin-0.1.12-py3-none-any.whl\n",
      "Requirement already satisfied: matplotlib<=3.7.3,>=3.2 in c:\\users\\sharsaur\\anaconda3\\lib\\site-packages (from ydata-profiling) (3.5.2)\n",
      "Requirement already satisfied: statsmodels<1,>=0.13.2 in c:\\users\\sharsaur\\anaconda3\\lib\\site-packages (from ydata-profiling) (0.13.2)\n",
      "Collecting pydantic>=2\n",
      "  Using cached pydantic-2.4.2-py3-none-any.whl (395 kB)\n",
      "Requirement already satisfied: tqdm<5,>=4.48.2 in c:\\users\\sharsaur\\anaconda3\\lib\\site-packages (from ydata-profiling) (4.64.0)\n",
      "Requirement already satisfied: visions[type_image_path]==0.7.5 in c:\\users\\sharsaur\\anaconda3\\lib\\site-packages (from ydata-profiling) (0.7.5)\n",
      "Collecting typeguard<5,>=4.1.2\n",
      "  Using cached typeguard-4.1.5-py3-none-any.whl (34 kB)\n",
      "Requirement already satisfied: seaborn<0.13,>=0.10.1 in c:\\users\\sharsaur\\anaconda3\\lib\\site-packages (from ydata-profiling) (0.11.2)\n",
      "Requirement already satisfied: PyYAML<6.1,>=5.0.0 in c:\\users\\sharsaur\\anaconda3\\lib\\site-packages (from ydata-profiling) (5.4.1)\n",
      "Collecting imagehash==4.3.1\n",
      "  Using cached ImageHash-4.3.1-py2.py3-none-any.whl (296 kB)\n",
      "Collecting dacite>=1.8\n",
      "  Using cached dacite-1.8.1-py3-none-any.whl (14 kB)\n",
      "Requirement already satisfied: requests<3,>=2.24.0 in c:\\users\\sharsaur\\anaconda3\\lib\\site-packages (from ydata-profiling) (2.31.0)\n",
      "Collecting phik<0.13,>=0.11.1\n",
      "  Using cached phik-0.12.3-cp39-cp39-win_amd64.whl (663 kB)\n",
      "Requirement already satisfied: numpy<1.26,>=1.16.0 in c:\\users\\sharsaur\\anaconda3\\lib\\site-packages (from ydata-profiling) (1.22.4)\n",
      "Requirement already satisfied: jinja2<3.2,>=2.11.1 in c:\\users\\sharsaur\\anaconda3\\lib\\site-packages (from ydata-profiling) (3.1.2)\n",
      "Collecting numba<0.59.0,>=0.56.0\n",
      "  Using cached numba-0.58.1-cp39-cp39-win_amd64.whl (2.6 MB)\n",
      "Requirement already satisfied: PyWavelets in c:\\users\\sharsaur\\anaconda3\\lib\\site-packages (from imagehash==4.3.1->ydata-profiling) (1.3.0)\n",
      "Requirement already satisfied: pillow in c:\\users\\sharsaur\\anaconda3\\lib\\site-packages (from imagehash==4.3.1->ydata-profiling) (9.0.1)\n",
      "Requirement already satisfied: attrs>=19.3.0 in c:\\users\\sharsaur\\anaconda3\\lib\\site-packages (from visions[type_image_path]==0.7.5->ydata-profiling) (21.4.0)\n",
      "Requirement already satisfied: tangled-up-in-unicode>=0.0.4 in c:\\users\\sharsaur\\anaconda3\\lib\\site-packages (from visions[type_image_path]==0.7.5->ydata-profiling) (0.2.0)\n",
      "Requirement already satisfied: networkx>=2.4 in c:\\users\\sharsaur\\anaconda3\\lib\\site-packages (from visions[type_image_path]==0.7.5->ydata-profiling) (2.7.1)\n",
      "Requirement already satisfied: MarkupSafe>=2.0 in c:\\users\\sharsaur\\anaconda3\\lib\\site-packages (from jinja2<3.2,>=2.11.1->ydata-profiling) (2.0.1)\n",
      "Requirement already satisfied: fonttools>=4.22.0 in c:\\users\\sharsaur\\anaconda3\\lib\\site-packages (from matplotlib<=3.7.3,>=3.2->ydata-profiling) (4.25.0)\n",
      "Requirement already satisfied: cycler>=0.10 in c:\\users\\sharsaur\\anaconda3\\lib\\site-packages (from matplotlib<=3.7.3,>=3.2->ydata-profiling) (0.11.0)\n",
      "Requirement already satisfied: packaging>=20.0 in c:\\users\\sharsaur\\anaconda3\\lib\\site-packages (from matplotlib<=3.7.3,>=3.2->ydata-profiling) (21.3)\n",
      "Requirement already satisfied: pyparsing>=2.2.1 in c:\\users\\sharsaur\\anaconda3\\lib\\site-packages (from matplotlib<=3.7.3,>=3.2->ydata-profiling) (3.0.4)\n",
      "Requirement already satisfied: kiwisolver>=1.0.1 in c:\\users\\sharsaur\\anaconda3\\lib\\site-packages (from matplotlib<=3.7.3,>=3.2->ydata-profiling) (1.3.2)\n",
      "Requirement already satisfied: python-dateutil>=2.7 in c:\\users\\sharsaur\\anaconda3\\lib\\site-packages (from matplotlib<=3.7.3,>=3.2->ydata-profiling) (2.8.2)\n",
      "Collecting llvmlite<0.42,>=0.41.0dev0\n",
      "  Using cached llvmlite-0.41.1-cp39-cp39-win_amd64.whl (28.1 MB)\n",
      "Requirement already satisfied: pytz>=2020.1 in c:\\users\\sharsaur\\anaconda3\\lib\\site-packages (from pandas!=1.4.0,<2.1,>1.1->ydata-profiling) (2021.3)\n",
      "Requirement already satisfied: joblib>=0.14.1 in c:\\users\\sharsaur\\anaconda3\\lib\\site-packages (from phik<0.13,>=0.11.1->ydata-profiling) (1.3.2)\n",
      "Requirement already satisfied: pydantic-core==2.10.1 in c:\\users\\sharsaur\\anaconda3\\lib\\site-packages (from pydantic>=2->ydata-profiling) (2.10.1)\n",
      "Requirement already satisfied: typing-extensions>=4.6.1 in c:\\users\\sharsaur\\anaconda3\\lib\\site-packages (from pydantic>=2->ydata-profiling) (4.8.0)\n",
      "Collecting annotated-types>=0.4.0\n",
      "  Using cached annotated_types-0.6.0-py3-none-any.whl (12 kB)\n",
      "Requirement already satisfied: six>=1.5 in c:\\users\\sharsaur\\anaconda3\\lib\\site-packages (from python-dateutil>=2.7->matplotlib<=3.7.3,>=3.2->ydata-profiling) (1.16.0)\n",
      "Requirement already satisfied: idna<4,>=2.5 in c:\\users\\sharsaur\\anaconda3\\lib\\site-packages (from requests<3,>=2.24.0->ydata-profiling) (2.8)\n",
      "Requirement already satisfied: charset-normalizer<4,>=2 in c:\\users\\sharsaur\\anaconda3\\lib\\site-packages (from requests<3,>=2.24.0->ydata-profiling) (2.0.4)\n",
      "Requirement already satisfied: certifi>=2017.4.17 in c:\\users\\sharsaur\\anaconda3\\lib\\site-packages (from requests<3,>=2.24.0->ydata-profiling) (2022.12.7)\n",
      "Requirement already satisfied: urllib3<3,>=1.21.1 in c:\\users\\sharsaur\\anaconda3\\lib\\site-packages (from requests<3,>=2.24.0->ydata-profiling) (2.0.7)\n",
      "Requirement already satisfied: patsy>=0.5.2 in c:\\users\\sharsaur\\anaconda3\\lib\\site-packages (from statsmodels<1,>=0.13.2->ydata-profiling) (0.5.2)\n",
      "Requirement already satisfied: colorama in c:\\users\\sharsaur\\anaconda3\\lib\\site-packages (from tqdm<5,>=4.48.2->ydata-profiling) (0.4.4)\n",
      "Requirement already satisfied: importlib-metadata>=3.6 in c:\\users\\sharsaur\\anaconda3\\lib\\site-packages (from typeguard<5,>=4.1.2->ydata-profiling) (4.11.3)\n",
      "Requirement already satisfied: zipp>=0.5 in c:\\users\\sharsaur\\anaconda3\\lib\\site-packages (from importlib-metadata>=3.6->typeguard<5,>=4.1.2->ydata-profiling) (3.7.0)\n",
      "Installing collected packages: llvmlite, imagehash, annotated-types, wordcloud, typeguard, pydantic, phik, numba, htmlmin, dacite, ydata-profiling\n",
      "  Attempting uninstall: llvmlite\n",
      "    Found existing installation: llvmlite 0.38.0\n"
     ]
    }
   ],
   "source": [
    "!pip install ydata-profiling"
   ]
  },
  {
   "cell_type": "code",
   "execution_count": null,
   "metadata": {},
   "outputs": [],
   "source": []
  }
 ],
 "metadata": {
  "kernelspec": {
   "display_name": "base",
   "language": "python",
   "name": "python3"
  },
  "language_info": {
   "codemirror_mode": {
    "name": "ipython",
    "version": 3
   },
   "file_extension": ".py",
   "mimetype": "text/x-python",
   "name": "python",
   "nbconvert_exporter": "python",
   "pygments_lexer": "ipython3",
   "version": "3.9.12"
  }
 },
 "nbformat": 4,
 "nbformat_minor": 2
}
